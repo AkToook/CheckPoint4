{
 "cells": [
  {
   "cell_type": "code",
   "execution_count": 1,
   "id": "692b3c1c",
   "metadata": {},
   "outputs": [
    {
     "name": "stdout",
     "output_type": "stream",
     "text": [
      "Enter the first number: 10\n",
      "Enter the second number: 5\n",
      "Enter the operator (+, -, *, /): *\n",
      "The result is: 50.0\n"
     ]
    }
   ],
   "source": [
    "def calculator():\n",
    "    num1 = float(input(\"Enter the first number: \"))\n",
    "    num2 = float(input(\"Enter the second number: \"))\n",
    "    operator = input(\"Enter the operator (+, -, *, /): \")\n",
    "\n",
    "    result = None\n",
    "\n",
    "    if operator == '+':\n",
    "        result = num1 + num2\n",
    "    elif operator == '-':\n",
    "        result = num1 - num2\n",
    "    elif operator == '*':\n",
    "        result = num1 * num2\n",
    "    elif operator == '/':\n",
    "        if num2 != 0:  # Check for division by zero\n",
    "            result = num1 / num2\n",
    "        else:\n",
    "            print(\"Error: Cannot divide by zero\")\n",
    "            return\n",
    "\n",
    "    if result is not None:\n",
    "        print(\"The result is:\", result)\n",
    "\n",
    "\n",
    "calculator()\n"
   ]
  },
  {
   "cell_type": "code",
   "execution_count": null,
   "id": "fc64359e",
   "metadata": {},
   "outputs": [],
   "source": []
  }
 ],
 "metadata": {
  "kernelspec": {
   "display_name": "Python 3 (ipykernel)",
   "language": "python",
   "name": "python3"
  },
  "language_info": {
   "codemirror_mode": {
    "name": "ipython",
    "version": 3
   },
   "file_extension": ".py",
   "mimetype": "text/x-python",
   "name": "python",
   "nbconvert_exporter": "python",
   "pygments_lexer": "ipython3",
   "version": "3.10.9"
  }
 },
 "nbformat": 4,
 "nbformat_minor": 5
}
